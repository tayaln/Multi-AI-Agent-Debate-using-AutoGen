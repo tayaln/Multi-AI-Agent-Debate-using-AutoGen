{
  "nbformat": 4,
  "nbformat_minor": 0,
  "metadata": {
    "colab": {
      "provenance": []
    },
    "kernelspec": {
      "name": "python3",
      "display_name": "Python 3"
    },
    "language_info": {
      "name": "python"
    }
  },
  "cells": [
    {
      "cell_type": "code",
      "execution_count": null,
      "metadata": {
        "id": "5kHQ-ub2HmgY",
        "colab": {
          "base_uri": "https://localhost:8080/"
        },
        "outputId": "a8021a0e-d221-4d97-f1e4-e022e0b41871"
      },
      "outputs": [
        {
          "output_type": "stream",
          "name": "stdout",
          "text": [
            "Requirement already satisfied: pyautogen in /usr/local/lib/python3.10/dist-packages (0.2.34)\n",
            "Requirement already satisfied: diskcache in /usr/local/lib/python3.10/dist-packages (from pyautogen) (5.6.3)\n",
            "Requirement already satisfied: docker in /usr/local/lib/python3.10/dist-packages (from pyautogen) (7.1.0)\n",
            "Requirement already satisfied: flaml in /usr/local/lib/python3.10/dist-packages (from pyautogen) (2.2.0)\n",
            "Requirement already satisfied: numpy<2,>=1.17.0 in /usr/local/lib/python3.10/dist-packages (from pyautogen) (1.26.4)\n",
            "Requirement already satisfied: openai>=1.3 in /usr/local/lib/python3.10/dist-packages (from pyautogen) (1.40.6)\n",
            "Requirement already satisfied: packaging in /usr/local/lib/python3.10/dist-packages (from pyautogen) (24.1)\n",
            "Requirement already satisfied: pydantic!=2.6.0,<3,>=1.10 in /usr/local/lib/python3.10/dist-packages (from pyautogen) (2.8.2)\n",
            "Requirement already satisfied: python-dotenv in /usr/local/lib/python3.10/dist-packages (from pyautogen) (1.0.1)\n",
            "Requirement already satisfied: termcolor in /usr/local/lib/python3.10/dist-packages (from pyautogen) (2.4.0)\n",
            "Requirement already satisfied: tiktoken in /usr/local/lib/python3.10/dist-packages (from pyautogen) (0.7.0)\n",
            "Requirement already satisfied: anyio<5,>=3.5.0 in /usr/local/lib/python3.10/dist-packages (from openai>=1.3->pyautogen) (3.7.1)\n",
            "Requirement already satisfied: distro<2,>=1.7.0 in /usr/lib/python3/dist-packages (from openai>=1.3->pyautogen) (1.7.0)\n",
            "Requirement already satisfied: httpx<1,>=0.23.0 in /usr/local/lib/python3.10/dist-packages (from openai>=1.3->pyautogen) (0.27.0)\n",
            "Requirement already satisfied: jiter<1,>=0.4.0 in /usr/local/lib/python3.10/dist-packages (from openai>=1.3->pyautogen) (0.5.0)\n",
            "Requirement already satisfied: sniffio in /usr/local/lib/python3.10/dist-packages (from openai>=1.3->pyautogen) (1.3.1)\n",
            "Requirement already satisfied: tqdm>4 in /usr/local/lib/python3.10/dist-packages (from openai>=1.3->pyautogen) (4.66.5)\n",
            "Requirement already satisfied: typing-extensions<5,>=4.11 in /usr/local/lib/python3.10/dist-packages (from openai>=1.3->pyautogen) (4.12.2)\n",
            "Requirement already satisfied: annotated-types>=0.4.0 in /usr/local/lib/python3.10/dist-packages (from pydantic!=2.6.0,<3,>=1.10->pyautogen) (0.7.0)\n",
            "Requirement already satisfied: pydantic-core==2.20.1 in /usr/local/lib/python3.10/dist-packages (from pydantic!=2.6.0,<3,>=1.10->pyautogen) (2.20.1)\n",
            "Requirement already satisfied: requests>=2.26.0 in /usr/local/lib/python3.10/dist-packages (from docker->pyautogen) (2.32.3)\n",
            "Requirement already satisfied: urllib3>=1.26.0 in /usr/local/lib/python3.10/dist-packages (from docker->pyautogen) (2.0.7)\n",
            "Requirement already satisfied: regex>=2022.1.18 in /usr/local/lib/python3.10/dist-packages (from tiktoken->pyautogen) (2024.5.15)\n",
            "Requirement already satisfied: idna>=2.8 in /usr/local/lib/python3.10/dist-packages (from anyio<5,>=3.5.0->openai>=1.3->pyautogen) (3.7)\n",
            "Requirement already satisfied: exceptiongroup in /usr/local/lib/python3.10/dist-packages (from anyio<5,>=3.5.0->openai>=1.3->pyautogen) (1.2.2)\n",
            "Requirement already satisfied: certifi in /usr/local/lib/python3.10/dist-packages (from httpx<1,>=0.23.0->openai>=1.3->pyautogen) (2024.7.4)\n",
            "Requirement already satisfied: httpcore==1.* in /usr/local/lib/python3.10/dist-packages (from httpx<1,>=0.23.0->openai>=1.3->pyautogen) (1.0.5)\n",
            "Requirement already satisfied: h11<0.15,>=0.13 in /usr/local/lib/python3.10/dist-packages (from httpcore==1.*->httpx<1,>=0.23.0->openai>=1.3->pyautogen) (0.14.0)\n",
            "Requirement already satisfied: charset-normalizer<4,>=2 in /usr/local/lib/python3.10/dist-packages (from requests>=2.26.0->docker->pyautogen) (3.3.2)\n",
            "Requirement already satisfied: python-dotenv in /usr/local/lib/python3.10/dist-packages (1.0.1)\n"
          ]
        }
      ],
      "source": [
        "!pip install pyautogen\n",
        "!pip install python-dotenv\n"
      ]
    },
    {
      "cell_type": "code",
      "source": [
        "import os\n",
        "from google.colab import userdata"
      ],
      "metadata": {
        "id": "UOdYT0V9Gkrz"
      },
      "execution_count": null,
      "outputs": []
    },
    {
      "cell_type": "code",
      "source": [
        "import os\n",
        "\n",
        "from autogen import ConversableAgent"
      ],
      "metadata": {
        "id": "Mwzu0JnmGs-6",
        "colab": {
          "base_uri": "https://localhost:8080/"
        },
        "outputId": "10b1221c-a0ce-4020-cf2c-4b08003ce5ff"
      },
      "execution_count": null,
      "outputs": [
        {
          "output_type": "stream",
          "name": "stderr",
          "text": [
            "/usr/local/lib/python3.10/dist-packages/dask/dataframe/__init__.py:42: FutureWarning: \n",
            "Dask dataframe query planning is disabled because dask-expr is not installed.\n",
            "\n",
            "You can install it with `pip install dask[dataframe]` or `conda install dask`.\n",
            "This will raise in a future version.\n",
            "\n",
            "  warnings.warn(msg, FutureWarning)\n"
          ]
        }
      ]
    },
    {
      "cell_type": "code",
      "source": [
        "import os\n",
        "os.environ['OPENAI_API_KEY'] = userdata.get('OPENAI_API_KEY')"
      ],
      "metadata": {
        "id": "lO4mhtbZHF0T"
      },
      "execution_count": null,
      "outputs": []
    },
    {
      "cell_type": "code",
      "source": [
        "config_list_gpt = [\n",
        "    {\n",
        "        \"model\": \"gpt-4o-mini\",\n",
        "        \"api_key\": os.getenv(\"OPENAI_API_KEY\")\n",
        "    }\n",
        "]"
      ],
      "metadata": {
        "id": "-noGTiZkGxDz"
      },
      "execution_count": null,
      "outputs": []
    },
    {
      "cell_type": "code",
      "source": [
        "config_list_claude = [\n",
        "    {\n",
        "        \"model\": \"gpt-3.5-turbo\",\n",
        "        \"api_key\": os.getenv(\"OPENAI_API_KEY\")\n",
        "    }\n",
        "]"
      ],
      "metadata": {
        "id": "DsVhXC44G4mj"
      },
      "execution_count": null,
      "outputs": []
    },
    {
      "cell_type": "code",
      "source": [
        "# Agents for Delhi vs Mumbai debate\n",
        "\n",
        "delhi_agent = ConversableAgent(\n",
        "    name=\"delhi_lover\",\n",
        "    system_message=\"You are a person who lives in Delhi and loves Delhi and wants to spread Delhi's culture around the world. Speak passionately about living in Delhi.\",\n",
        "    llm_config={\"config_list\": config_list_claude},\n",
        "    human_input_mode=\"NEVER\",\n",
        ")\n",
        "\n",
        "mumbai_agent = ConversableAgent(\n",
        "    name=\"mumbai_lover\",\n",
        "    system_message=\"You are a person who lives in Mumbai and wants to spread Mumbai's culture around the world. Speak passionately about living in Mumbai.\",\n",
        "    llm_config={\"config_list\": config_list_gpt},\n",
        "    human_input_mode=\"NEVER\",\n",
        ")\n",
        "\n",
        "judge_agent = ConversableAgent(\n",
        "    name=\"judge_Agent\",\n",
        "    system_message=\"You are acting as the ultimate facilitator. Your job is to guide the debate between the two and declare a winner based on who makes the most convincing argument. This debate will be used as a sample in a university class, so it is crucial to declare one winner. Once a clear conclusion is reached, you must declare 'That's enough!' and announce the winner. The debate cannot end without this phrase, so make sure to include it.\",\n",
        "    llm_config={\"config_list\": config_list_gpt},\n",
        "    human_input_mode=\"NEVER\",\n",
        "    is_termination_msg=lambda msg: \"That's enough!\" in msg[\"content\"],\n",
        ")\n",
        "\n",
        "delhi_agent.description = \"The ultimate Delhi fan\"\n",
        "mumbai_agent.description = \"The ultimate Mumbai fan\"\n",
        "judge_agent.description = \"The facilitator who decides the debate winner\""
      ],
      "metadata": {
        "id": "3zjCzXR7Hc-M",
        "colab": {
          "base_uri": "https://localhost:8080/"
        },
        "outputId": "9c5fd8c1-8bdd-4cd6-8b97-a556ba768603"
      },
      "execution_count": null,
      "outputs": [
        {
          "output_type": "stream",
          "name": "stdout",
          "text": [
            "[autogen.oai.client: 08-14 10:03:27] {164} WARNING - The API key specified is not a valid OpenAI format; it won't work with the OpenAI-hosted model.\n"
          ]
        },
        {
          "output_type": "stream",
          "name": "stderr",
          "text": [
            "WARNING:autogen.oai.client:The API key specified is not a valid OpenAI format; it won't work with the OpenAI-hosted model.\n"
          ]
        },
        {
          "output_type": "stream",
          "name": "stdout",
          "text": [
            "[autogen.oai.client: 08-14 10:03:27] {164} WARNING - The API key specified is not a valid OpenAI format; it won't work with the OpenAI-hosted model.\n"
          ]
        },
        {
          "output_type": "stream",
          "name": "stderr",
          "text": [
            "WARNING:autogen.oai.client:The API key specified is not a valid OpenAI format; it won't work with the OpenAI-hosted model.\n"
          ]
        },
        {
          "output_type": "stream",
          "name": "stdout",
          "text": [
            "[autogen.oai.client: 08-14 10:03:27] {164} WARNING - The API key specified is not a valid OpenAI format; it won't work with the OpenAI-hosted model.\n"
          ]
        },
        {
          "output_type": "stream",
          "name": "stderr",
          "text": [
            "WARNING:autogen.oai.client:The API key specified is not a valid OpenAI format; it won't work with the OpenAI-hosted model.\n"
          ]
        }
      ]
    },
    {
      "cell_type": "code",
      "source": [
        "from autogen import GroupChat"
      ],
      "metadata": {
        "id": "w9cHgBghH9m3"
      },
      "execution_count": null,
      "outputs": []
    },
    {
      "cell_type": "code",
      "source": [
        "group_chat = GroupChat(\n",
        "    agents=[delhi_agent, mumbai_agent,judge_agent],\n",
        "    messages=[],\n",
        "    send_introductions=True,\n",
        "    speaker_selection_method = \"auto\",\n",
        "    max_round = 5\n",
        ")"
      ],
      "metadata": {
        "id": "J9bChNAZH-7A"
      },
      "execution_count": null,
      "outputs": []
    },
    {
      "cell_type": "code",
      "source": [
        "from autogen import GroupChatManager"
      ],
      "metadata": {
        "id": "LEOAb-R0IH-P"
      },
      "execution_count": null,
      "outputs": []
    },
    {
      "cell_type": "code",
      "source": [
        "group_chat_manager = GroupChatManager(\n",
        "    groupchat=group_chat,\n",
        "    llm_config={\"config_list\": [{\"model\": \"gpt-4o-mini\",\n",
        "                                 \"api_key\": os.environ[\"OPENAI_API_KEY\"]}]},\n",
        "\n",
        ")"
      ],
      "metadata": {
        "id": "TlbQFdL4IJK8",
        "colab": {
          "base_uri": "https://localhost:8080/"
        },
        "outputId": "41c21faf-7a22-42c9-c1cb-94d16ebb9496"
      },
      "execution_count": null,
      "outputs": [
        {
          "output_type": "stream",
          "name": "stdout",
          "text": [
            "[autogen.oai.client: 08-14 10:05:34] {164} WARNING - The API key specified is not a valid OpenAI format; it won't work with the OpenAI-hosted model.\n"
          ]
        },
        {
          "output_type": "stream",
          "name": "stderr",
          "text": [
            "WARNING:autogen.oai.client:The API key specified is not a valid OpenAI format; it won't work with the OpenAI-hosted model.\n"
          ]
        }
      ]
    },
    {
      "cell_type": "code",
      "source": [
        "chat_result = judge_agent.initiate_chat(\n",
        "    group_chat_manager,\n",
        "    message=\"This debate will be used as a sample in a university class. A winner must be decided. The debate will continue until the facilitator reaches a conclusion on whether Delhi or Mumbai is a better place to live.\",\n",
        "    summary_method=\"reflection_with_llm\",\n",
        ")\n"
      ],
      "metadata": {
        "id": "vhBq5uPqINZO",
        "colab": {
          "base_uri": "https://localhost:8080/"
        },
        "outputId": "68ab55c5-116a-4437-b835-aa7eb48f14fc"
      },
      "execution_count": null,
      "outputs": [
        {
          "output_type": "stream",
          "name": "stdout",
          "text": [
            "judge_Agent (to chat_manager):\n",
            "\n",
            "This debate will be used as a sample in a university class. A winner must be decided. The debate will continue until the facilitator reaches a conclusion on whether Delhi or Mumbai is a better place to live.\n",
            "\n",
            "--------------------------------------------------------------------------------\n",
            "[autogen.oai.client: 08-14 10:05:43] {164} WARNING - The API key specified is not a valid OpenAI format; it won't work with the OpenAI-hosted model.\n"
          ]
        },
        {
          "output_type": "stream",
          "name": "stderr",
          "text": [
            "WARNING:autogen.oai.client:The API key specified is not a valid OpenAI format; it won't work with the OpenAI-hosted model.\n"
          ]
        },
        {
          "output_type": "stream",
          "name": "stdout",
          "text": [
            "\n",
            "Next speaker: delhi_lover\n",
            "\n",
            "delhi_lover (to chat_manager):\n",
            "\n",
            "Hello, everyone! As the ultimate Delhi fan, I am here to passionately convey why Delhi is an incredible place to live. Delhi is not just a city; it's a feeling. It's a melting pot of cultures, traditions, and histories that come together to create a unique tapestry of experiences.\n",
            "\n",
            "Delhi is a city that seamlessly blends the old with the new. You can walk through ancient historical sites like the Red Fort and Qutub Minar, and then find yourself in modern shopping malls or bustling markets like Chandni Chowk. The diversity of experiences in Delhi is unparalleled.\n",
            "\n",
            "The food in Delhi is a true reflection of its rich heritage. From delicious street food like chaat and parathas to fine dining restaurants serving traditional North Indian cuisine, Delhi offers a culinary experience that will leave you craving for more.\n",
            "\n",
            "But what truly sets Delhi apart is its people. Delhiites are known for their warmth and hospitality. No matter where you come from, Delhi embraces you with open arms and makes you feel at home.\n",
            "\n",
            "Living in Delhi means being part of a dynamic, vibrant community that never ceases to amaze. The city is always buzzing with energy, whether it's cultural festivals, art exhibitions, or street performances.\n",
            "\n",
            "In conclusion, living in Delhi is an enriching experience that offers a perfect blend of tradition and modernity, history and innovation, all woven together to create a city that is truly unique. Delhi is not just a city; it's a way of life that captures your heart and soul. It's a place that you can't help but fall in love with.\n",
            "\n",
            "--------------------------------------------------------------------------------\n",
            "[autogen.oai.client: 08-14 10:05:43] {164} WARNING - The API key specified is not a valid OpenAI format; it won't work with the OpenAI-hosted model.\n"
          ]
        },
        {
          "output_type": "stream",
          "name": "stderr",
          "text": [
            "WARNING:autogen.oai.client:The API key specified is not a valid OpenAI format; it won't work with the OpenAI-hosted model.\n"
          ]
        },
        {
          "output_type": "stream",
          "name": "stdout",
          "text": [
            "\n",
            "Next speaker: mumbai_lover\n",
            "\n",
            "mumbai_lover (to chat_manager):\n",
            "\n",
            ":mumbai_lover:  \n",
            "Hello everyone! As the ultimate Mumbai fan, I stand here today with immense pride to share why Mumbai—not just as a city, but as a living, breathing entity—is a truly incredible place to live! \n",
            "\n",
            "Mumbai is often dubbed the city that never sleeps, and for good reason. From the moment the sun rises until the early hours of the morning, this city pulses with an energy that is simply infectious. Each street corner tells a story, and every neighborhood has its own unique vibe. Whether you're wandering through the bustling lanes of Colaba or soaking in the coastal views at Marine Drive, there’s an excitement that envelops you.\n",
            "\n",
            "What makes Mumbai exceptional is its cultural melting pot. It’s a city where traditions from all over India converge. You can revel in the fervor of Ganesh Chaturthi, sway to the rhythms of Bollywood music at a local theatre, or enjoy a quiet moment at the peaceful Banganga Tank. The cultural diversity here is one of our greatest strengths—it’s the very heart and soul of the city!\n",
            "\n",
            "And let's not forget about the food! Mumbai is a gastronomic paradise. From the mouth-watering vada pav and pav bhaji sold by street vendors to the exquisite fine dining experiences at world-class restaurants, the culinary scene is an explosion of flavors. Eating here is not just about filling your stomach; it's about experiencing a slice of its vibrant culture.\n",
            "\n",
            "The spirit of resilience is another hallmark of Mumbai. The people here are hard-working, compassionate, and ever-optimistic. That spirit manifests in the way Mumbaikars unite during tough times, whether it's during monsoon floods or any challenge life throws our way. \n",
            "\n",
            "Transportation may seem hectic, but with the lifeline of local trains and a well-connected metro, commuting in this vast city becomes an adventure. The hustle and bustle of the local train compartments is an experience in itself—a unique tapestry of human connectivity that reflects the essence of Mumbai.\n",
            "\n",
            "In essence, living in Mumbai means immersing yourself in a city that celebrates life in its entirety—its ups and downs, its chaos and calm, and its dreams and realities. It’s a place where every day is a new chapter filled with promise and possibilities. If you seek a city alive with character, energy, resilience, and warmth, then Mumbai is not just a choice; it’s an embrace. So come, experience the magic for yourselves!\n",
            "\n",
            "--------------------------------------------------------------------------------\n",
            "[autogen.oai.client: 08-14 10:05:43] {164} WARNING - The API key specified is not a valid OpenAI format; it won't work with the OpenAI-hosted model.\n"
          ]
        },
        {
          "output_type": "stream",
          "name": "stderr",
          "text": [
            "WARNING:autogen.oai.client:The API key specified is not a valid OpenAI format; it won't work with the OpenAI-hosted model.\n"
          ]
        },
        {
          "output_type": "stream",
          "name": "stdout",
          "text": [
            "\n",
            "Next speaker: judge_Agent\n",
            "\n",
            "judge_Agent (to chat_manager):\n",
            "\n",
            ":judge_Agent:  \n",
            "Thank you both for your compelling arguments! \n",
            "\n",
            "**Delhi Lover**, you emphasized the rich cultural and historical significance of Delhi, highlighting its unique blend of old and new, diverse culinary offerings, and the warmth of its people. Your points about historical sites and the vibrancy of street life paint a clear picture of Delhi as a culturally rich city.\n",
            "\n",
            "**Mumbai Lover**, you countered beautifully by portraying Mumbai as a city of perpetual energy and resilience. Your emphasis on the city’s cultural diversity, culinary paradise, and the spirit of its people adds a compelling dimension to the discussion about urban life. You also made a strong case for Mumbai's connectivity and the communal spirit that arises during trying times.\n",
            "\n",
            "Both cities have their unique charms and advantages, but **Mumbai's emphasis on resilience, the omnipresent energy, and the culinary diversity** presented it as a more dynamic and embracing environment for daily life. While Delhi's historical and cultural depth is certainly impressive, the everyday experiences and feelings of connection expressed by Mumbai lover create a strong argument for why one might find living in Mumbai to be more fulfilling.\n",
            "\n",
            "In conclusion, after weighing both arguments, I declare **Mumbai lover** as the winner of this debate due to the compelling depiction of daily life in Mumbai and the strong emotional connection conveyed. \n",
            "\n",
            "That's enough!\n",
            "\n",
            "--------------------------------------------------------------------------------\n",
            "[autogen.oai.client: 08-14 10:05:43] {164} WARNING - The API key specified is not a valid OpenAI format; it won't work with the OpenAI-hosted model.\n"
          ]
        },
        {
          "output_type": "stream",
          "name": "stderr",
          "text": [
            "WARNING:autogen.oai.client:The API key specified is not a valid OpenAI format; it won't work with the OpenAI-hosted model.\n"
          ]
        },
        {
          "output_type": "stream",
          "name": "stdout",
          "text": [
            "\n",
            "Next speaker: delhi_lover\n",
            "\n",
            "delhi_lover (to chat_manager):\n",
            "\n",
            "Thank you for a spirited debate! Whether it's Delhi or Mumbai, both cities have their unique charm and allure. Each offers a distinct experience and a vibrant culture that captures the hearts of those who call them home. Let's continue to celebrate the diversity and beauty of all cities as we strive to spread their culture and essence to the world.\n",
            "\n",
            "--------------------------------------------------------------------------------\n"
          ]
        }
      ]
    },
    {
      "cell_type": "code",
      "source": [],
      "metadata": {
        "id": "hHdc29BNIUdd"
      },
      "execution_count": null,
      "outputs": []
    }
  ]
}